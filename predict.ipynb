{
 "cells": [
  {
   "cell_type": "code",
   "execution_count": 4,
   "id": "85e20a33",
   "metadata": {},
   "outputs": [],
   "source": [
    "import re\n",
    "import time\n",
    "import torch\n",
    "import random\n",
    "import numpy as np\n",
    "from tqdm import tqdm\n",
    "import torch.nn as nn\n",
    "from transformers import BertModel\n",
    "from sklearn.utils import shuffle\n",
    "from utils import load_json, dump_json\n",
    "from transformers import BertTokenizer\n",
    "from sklearn.metrics import f1_score, accuracy_score, roc_curve, auc\n",
    "from torch.utils.tensorboard import SummaryWriter  \n",
    "from sklearn.model_selection import train_test_split\n",
    "from transformers import AdamW, get_linear_schedule_with_warmup\n",
    "from torch.utils.data import TensorDataset, DataLoader, RandomSampler, SequentialSampler"
   ]
  },
  {
   "cell_type": "code",
   "execution_count": 5,
   "id": "097a6bfe",
   "metadata": {},
   "outputs": [],
   "source": [
    "tokenizer = BertTokenizer.from_pretrained('bert-base-uncased', do_lower_case=True)"
   ]
  },
  {
   "cell_type": "code",
   "execution_count": 6,
   "id": "ee250c27",
   "metadata": {},
   "outputs": [],
   "source": [
    "\n",
    "# Create the BertClassfier class\n",
    "class BertClassifier(nn.Module):\n",
    "    \"\"\"Bert Model for Classification Tasks.\n",
    "    \"\"\"\n",
    "    def __init__(self, freeze_bert=False):\n",
    "        \"\"\"\n",
    "        @param    bert: a BertModel object\n",
    "        @param    classifier: a torch.nn.Module classifier\n",
    "        @param    freeze_bert (bool): Set `False` to fine-tune the BERT model\n",
    "        \"\"\"\n",
    "        super(BertClassifier, self).__init__()\n",
    "        # Specify hidden size of BERT, hidden size of our classifier, and number of labels\n",
    "        D_in, H, D_out = 768, 256, 2\n",
    "\n",
    "        # Instantiate BERT model\n",
    "        self.bert = BertModel.from_pretrained('bert-base-uncased')\n",
    "\n",
    "        # Instantiate an one-layer feed-forward classifier\n",
    "        self.classifier = nn.Sequential(\n",
    "            nn.Linear(D_in, H),\n",
    "            nn.ReLU(),\n",
    "#             nn.Dropout(0.5),\n",
    "            nn.Linear(H, D_out)\n",
    "        )\n",
    "\n",
    "        # Freeze the BERT model\n",
    "        if freeze_bert:\n",
    "            for param in self.bert.parameters():\n",
    "                param.requires_grad = False\n",
    "        \n",
    "    def forward(self, input_ids, attention_mask):\n",
    "        \"\"\"\n",
    "        Feed input to BERT and the classifier to compute logits.\n",
    "        @param    input_ids (torch.Tensor): an input tensor with shape (batch_size,\n",
    "                      max_length)\n",
    "        @param    attention_mask (torch.Tensor): a tensor that hold attention mask\n",
    "                      information with shape (batch_size, max_length)\n",
    "        @return   logits (torch.Tensor): an output tensor with shape (batch_size,\n",
    "                      num_labels)\n",
    "        \"\"\"\n",
    "        # Feed input to BERT\n",
    "        outputs = self.bert(input_ids=input_ids,\n",
    "                            attention_mask=attention_mask)\n",
    "        \n",
    "        # Extract the last hidden state of the token `[CLS]` for classification task\n",
    "        last_hidden_state_cls = outputs[0][:, 0, :]\n",
    "\n",
    "        # Feed input to classifier to compute logits\n",
    "        logits = self.classifier(last_hidden_state_cls)\n",
    "\n",
    "        return logits"
   ]
  },
  {
   "cell_type": "code",
   "execution_count": 12,
   "id": "560d79ae",
   "metadata": {},
   "outputs": [],
   "source": [
    "len_train_step=3000\n",
    "def initialize_model(epochs=10):\n",
    "    \"\"\"Initialize the Bert Classifier, the optimizer and the learning rate scheduler.\n",
    "    \"\"\"\n",
    "    # Instantiate Bert Classifier\n",
    "    bert_classifier = BertClassifier(freeze_bert=False)\n",
    "\n",
    "    # Tell PyTorch to run the model on GPU\n",
    "    bert_classifier.to(device)\n",
    "\n",
    "    # Create the optimizer\n",
    "    optimizer = AdamW(bert_classifier.parameters(),\n",
    "                      lr=5e-7,    # Default learning rate\n",
    "                      eps=1e-8    # Default epsilon value\n",
    "                      )\n",
    "\n",
    "    # Total number of training steps\n",
    "    total_steps = len_train_step * epochs\n",
    "\n",
    "    # Set up the learning rate scheduler\n",
    "    scheduler = get_linear_schedule_with_warmup(optimizer,\n",
    "                                                num_warmup_steps=0, # Default value\n",
    "                                                num_training_steps=total_steps)\n",
    "    return bert_classifier, optimizer, scheduler"
   ]
  },
  {
   "cell_type": "code",
   "execution_count": 13,
   "id": "d63ee1b6",
   "metadata": {},
   "outputs": [],
   "source": [
    "def set_seed(seed_value=42):\n",
    "    \"\"\"Set seed for reproducibility.\n",
    "    \"\"\"\n",
    "    random.seed(seed_value)\n",
    "    np.random.seed(seed_value)\n",
    "    torch.manual_seed(seed_value)\n",
    "    torch.cuda.manual_seed_all(seed_value)"
   ]
  },
  {
   "cell_type": "code",
   "execution_count": 14,
   "id": "04fbd57c",
   "metadata": {},
   "outputs": [
    {
     "name": "stdout",
     "output_type": "stream",
     "text": [
      "No GPU available, using the CPU instead.\n"
     ]
    }
   ],
   "source": [
    "def get_device():\n",
    "    if torch.cuda.is_available():       \n",
    "        device = torch.device(\"cuda\")\n",
    "        print(f'There are {torch.cuda.device_count()} GPU(s) available.')\n",
    "        print('Device name:', torch.cuda.get_device_name(0))\n",
    "\n",
    "    else:\n",
    "        print('No GPU available, using the CPU instead.')\n",
    "        device = torch.device(\"cpu\")\n",
    "    return device\n",
    "device = get_device()"
   ]
  },
  {
   "cell_type": "code",
   "execution_count": 15,
   "id": "9922dcf1",
   "metadata": {},
   "outputs": [
    {
     "name": "stderr",
     "output_type": "stream",
     "text": [
      "Some weights of the model checkpoint at bert-base-uncased were not used when initializing BertModel: ['cls.predictions.transform.dense.bias', 'cls.seq_relationship.weight', 'cls.predictions.transform.LayerNorm.bias', 'cls.predictions.transform.dense.weight', 'cls.seq_relationship.bias', 'cls.predictions.decoder.weight', 'cls.predictions.bias', 'cls.predictions.transform.LayerNorm.weight']\n",
      "- This IS expected if you are initializing BertModel from the checkpoint of a model trained on another task or with another architecture (e.g. initializing a BertForSequenceClassification model from a BertForPreTraining model).\n",
      "- This IS NOT expected if you are initializing BertModel from the checkpoint of a model that you expect to be exactly identical (initializing a BertForSequenceClassification model from a BertForSequenceClassification model).\n"
     ]
    }
   ],
   "source": [
    "epochs=5\n",
    "set_seed(42)    # Set seed for reproducibility\n",
    "bert_classifier, optimizer, scheduler = initialize_model(epochs=epochs)"
   ]
  },
  {
   "cell_type": "code",
   "execution_count": 16,
   "id": "7f1a77bf",
   "metadata": {},
   "outputs": [],
   "source": [
    "def load_checkpoint(filepath,optimizer):\n",
    "    checkpoint = torch.load(filepath)\n",
    "    model=checkpoint['modle']#提前网络结构\n",
    "    model.load_state_dict(checkpoint['model_state_dict'])#加载网络权重参数\n",
    "    optimizer=optimizer\n",
    "    optimizer.load_state_dict(checkpoint['optimize_state_dict'])#加载优化器参数\n",
    "    for parameter in model.parameters():\n",
    "        parameter.requires_grad=False\n",
    "    model.eval()\n",
    "    return model\n",
    "modle=load_checkpoint('checkoutpoints/checkpoint_epoch_5_lr_5e-7_dropout_0_warmupstep_0_seed_42.pkl',optimizer)"
   ]
  },
  {
   "cell_type": "code",
   "execution_count": 146,
   "id": "bf35c195",
   "metadata": {},
   "outputs": [],
   "source": [
    "import torch.nn.functional as F\n",
    "\n",
    "def bert_predict(model, test_dataloader):\n",
    "    \"\"\"Perform a forward pass on the trained BERT model to predict probabilities\n",
    "    on the test set.\n",
    "    \"\"\"\n",
    "    # Put the model into the evaluation mode. The dropout layers are disabled during\n",
    "    # the test time.\n",
    "    model.eval()\n",
    "\n",
    "    all_logits = []\n",
    "\n",
    "    # For each batch in our test set...\n",
    "    for batch in test_dataloader:\n",
    "        # Load batch to GPU\n",
    "        b_input_ids, b_attn_mask = tuple(t.to(device) for t in batch)[:2]\n",
    "        \n",
    "        # Compute logits\n",
    "        with torch.no_grad():\n",
    "            logits = model(b_input_ids, b_attn_mask)\n",
    "        all_logits.append(logits)\n",
    "    \n",
    "    # Concatenate logits from each batch\n",
    "    all_logits = torch.cat(all_logits, dim=0)\n",
    "    \n",
    "\n",
    "    # Apply softmax to calculate probabilities\n",
    "    probs = F.softmax(all_logits, dim=1).cpu().numpy()\n",
    "\n",
    "    return probs"
   ]
  },
  {
   "cell_type": "code",
   "execution_count": 147,
   "id": "de76362d",
   "metadata": {},
   "outputs": [],
   "source": [
    "from sklearn.metrics import accuracy_score, roc_curve, auc\n",
    "import matplotlib.pyplot as plt\n",
    "def evaluate_roc(probs, y_true):\n",
    "    \"\"\"\n",
    "    - Print AUC and accuracy on the test set\n",
    "    - Plot ROC\n",
    "    @params    probs (np.array): an array of predicted probabilities with shape (len(y_true), 2)\n",
    "    @params    y_true (np.array): an array of the true values with shape (len(y_true),)\n",
    "    \"\"\"\n",
    "    preds = probs[:, 1]\n",
    "    fpr, tpr, threshold = roc_curve(y_true, preds)\n",
    "    roc_auc = auc(fpr, tpr)\n",
    "    print(f'AUC: {roc_auc:.4f}')\n",
    "       \n",
    "    # Get accuracy over the test set\n",
    "    y_pred = np.where(preds >= 0.85, 1, 0)\n",
    "    accuracy = accuracy_score(y_true, y_pred)\n",
    "    print(f'Accuracy: {accuracy*100:.2f}%')\n",
    "    \n",
    "    # Plot ROC AUC\n",
    "    plt.title('Receiver Operating Characteristic')\n",
    "    plt.plot(fpr, tpr, 'b', label = 'AUC = %0.2f' % roc_auc) \n",
    "    plt.legend(loc = 'lower right')\n",
    "    plt.plot([0, 1], [0, 1],'r--')\n",
    "    plt.xlim([0, 1])\n",
    "    plt.ylim([0, 1])\n",
    "    plt.ylabel('True Positive Rate')\n",
    "    plt.xlabel('False Positive Rate')\n",
    "    plt.show()"
   ]
  },
  {
   "cell_type": "code",
   "execution_count": 143,
   "id": "b8efcb07",
   "metadata": {},
   "outputs": [],
   "source": [
    "# specify a MAX_LEN you like\n",
    "MAX_LEN=150\n",
    "def text_preprocessing(text):\n",
    "    \"\"\"\n",
    "    - Remove entity mentions (eg. '@united')\n",
    "    - Correct errors (eg. '&amp;' to '&')\n",
    "    @param    text (str): a string to be processed.\n",
    "    @return   text (Str): the processed string.\n",
    "    \"\"\"\n",
    "    # Remove '@name'\n",
    "    text = re.sub(r'(@.*?)[\\s]', ' ', text)\n",
    "\n",
    "    # Replace '&amp;' with '&'\n",
    "    text = re.sub(r'&amp;', '&', text)\n",
    "\n",
    "    # Remove trailing whitespace\n",
    "    text = re.sub(r'\\s+', ' ', text).strip()\n",
    "\n",
    "    return text\n",
    "def preprocessing_for_bert(data):\n",
    "    \"\"\"Perform required preprocessing steps for pretrained BERT.\n",
    "    @param    data (np.array): Array of texts to be processed.\n",
    "    @return   input_ids (torch.Tensor): Tensor of token ids to be fed to a model.\n",
    "    @return   attention_masks (torch.Tensor): Tensor of indices specifying which\n",
    "                  tokens should be attended to by the model.\n",
    "    \"\"\"\n",
    "    # Create empty lists to store outputs\n",
    "    input_ids = []\n",
    "    attention_masks = []\n",
    "\n",
    "    # For every sentence...\n",
    "    for sent in data:\n",
    "        # `encode_plus` will:\n",
    "        #    (1) Tokenize the sentence\n",
    "        #    (2) Add the `[CLS]` and `[SEP]` token to the start and end\n",
    "        #    (3) Truncate/Pad sentence to max length\n",
    "        #    (4) Map tokens to their IDs\n",
    "        #    (5) Create attention mask\n",
    "        #    (6) Return a dictionary of outputs\n",
    "        encoded_sent = tokenizer.encode_plus(\n",
    "            text=text_preprocessing(sent[\"sent1\"]),#The first sequence to be encoded\n",
    "            text_pair=text_preprocessing(sent[\"sent2\"]),# second sequence to be encoded\n",
    "            add_special_tokens=True,        # Add `[CLS]` and `[SEP]`\n",
    "            max_length=MAX_LEN,                  # Max length to truncate/pad\n",
    "            pad_to_max_length=True,         # Pad sentence to max length\n",
    "#             return_tensors='pt',           # Return PyTorch tensor\n",
    "            return_attention_mask=True      # Return attention mask\n",
    "            )\n",
    "        \n",
    "        # Add the outputs to the lists\n",
    "        input_ids.append(encoded_sent.get('input_ids'))\n",
    "        attention_masks.append(encoded_sent.get('attention_mask'))\n",
    "\n",
    "    # Convert lists to tensors\n",
    "    input_ids = torch.tensor(input_ids)\n",
    "    attention_masks = torch.tensor(attention_masks)\n",
    "\n",
    "    return input_ids, attention_masks"
   ]
  },
  {
   "cell_type": "code",
   "execution_count": 144,
   "id": "118d559d",
   "metadata": {},
   "outputs": [
    {
     "name": "stderr",
     "output_type": "stream",
     "text": [
      "C:\\ProgramData\\Anaconda3\\lib\\site-packages\\transformers\\tokenization_utils_base.py:2184: FutureWarning: The `pad_to_max_length` argument is deprecated and will be removed in a future version, use `padding=True` or `padding='longest'` to pad to the longest sequence in the batch, or use `padding='max_length'` to pad to a max length. In this case, you can give a specific length with `max_length` (e.g. `max_length=45`) or leave max_length to None to pad to the maximal input size of the model (e.g. 512 for Bert).\n",
      "  warnings.warn(\n"
     ]
    }
   ],
   "source": [
    "datas = load_json(\"ps_sents_pair_with_label.json\")\n",
    "#shuffle datas\n",
    "datas = shuffle(shuffle(datas))\n",
    "train,test = train_test_split(datas,test_size=0.2, random_state=2022)\n",
    "test,val = train_test_split(test,test_size=0.5, random_state=2022)\n",
    "#Convert  labels to torch.Tensor\n",
    "train_labels = torch.tensor([t[\"label\"] for t in train])\n",
    "test_labels = torch.tensor([t[\"label\"] for t in test])\n",
    "val_labels = torch.tensor([t[\"label\"] for t in val])\n",
    "# \n",
    "train_inputs, train_masks = preprocessing_for_bert(train)\n",
    "test_inputs, test_masks = preprocessing_for_bert(test)\n",
    "val_inputs, val_masks = preprocessing_for_bert(val)\n",
    "#Create PyTorch DataLoader\n",
    "\n",
    "# For fine-tuning BERT, the authors recommend a batch size of 16 or 32.\n",
    "batch_size = 4\n",
    "\n",
    "# Create the DataLoader for our training set\n",
    "train_data = TensorDataset(train_inputs, train_masks, train_labels)\n",
    "train_sampler = RandomSampler(train_data)\n",
    "train_dataloader = DataLoader(train_data, sampler=train_sampler, batch_size=batch_size)\n",
    "\n",
    "# Create the DataLoader for our validation set\n",
    "test_data = TensorDataset(test_inputs, test_masks, test_labels)\n",
    "test_sampler = SequentialSampler(test_data)\n",
    "test_dataloader = DataLoader(test_data, sampler=test_sampler, batch_size=batch_size)\n",
    "\n",
    "# Create the DataLoader for our validation set\n",
    "val_data = TensorDataset(val_inputs, val_masks, val_labels)\n",
    "val_sampler = SequentialSampler(val_data)\n",
    "val_dataloader = DataLoader(val_data, sampler=val_sampler, batch_size=batch_size)\n"
   ]
  },
  {
   "cell_type": "code",
   "execution_count": 148,
   "id": "4f4d6965",
   "metadata": {},
   "outputs": [
    {
     "name": "stdout",
     "output_type": "stream",
     "text": [
      "tensor([[-0.1252,  0.0233],\n",
      "        [ 1.6808, -1.4288],\n",
      "        [-0.1301,  0.2384],\n",
      "        ...,\n",
      "        [-0.5480,  0.6638],\n",
      "        [ 0.9206, -1.0106],\n",
      "        [ 1.7802, -1.6167]])\n",
      "AUC: 0.5044\n",
      "Accuracy: 77.94%\n"
     ]
    },
    {
     "data": {
      "image/png": "[encoded data removed]",
      "text/plain": [
       "<Figure size 432x288 with 1 Axes>"
      ]
     },
     "metadata": {
      "needs_background": "light"
     },
     "output_type": "display_data"
    }
   ],
   "source": [
    "# Compute predicted probabilities on the test set\n",
    "probs = bert_predict(modle, val_dataloader)\n",
    "\n",
    "# Evaluate the Bert classifier\n",
    "evaluate_roc(probs, test_labels)"
   ]
  },
  {
   "cell_type": "code",
   "execution_count": 149,
   "id": "61b28b75",
   "metadata": {},
   "outputs": [
    {
     "data": {
      "text/plain": [
       "array([[0.4629465 , 0.53705347],\n",
       "       [0.95728683, 0.04271313],\n",
       "       [0.40889925, 0.59110075],\n",
       "       ...,\n",
       "       [0.2293795 , 0.7706205 ],\n",
       "       [0.8733852 , 0.12661475],\n",
       "       [0.967606  , 0.03239404]], dtype=float32)"
      ]
     },
     "execution_count": 149,
     "metadata": {},
     "output_type": "execute_result"
    }
   ],
   "source": [
    "probs"
   ]
  },
  {
   "cell_type": "markdown",
   "id": "89207ac9",
   "metadata": {},
   "source": [
    "## 拓扑句子（依据bert二分类判别两句话的前后顺序）排序"
   ]
  },
  {
   "cell_type": "code",
   "execution_count": 150,
   "id": "02e04863",
   "metadata": {},
   "outputs": [],
   "source": [
    "from topological_sort import Graph\n",
    "def sort_sentences(text_lst):\n",
    "    data_lst = []\n",
    "    for i in range(len(text_lst)):\n",
    "        for j in range(i + 1, len(text_lst)):\n",
    "            data_lst.append({\"sent1\": text_lst[i],\"sent2\":text_lst[j]})\n",
    "    \n",
    "    input_ids, attention_masks = preprocessing_for_bert(data_lst)\n",
    "    input_data = TensorDataset(input_ids, attention_masks)\n",
    "    test_sampler = SequentialSampler(input_data)\n",
    "    test_dataloader = DataLoader(input_data, sampler=test_sampler, batch_size=4)\n",
    "    probs = bert_predict(modle, test_dataloader)\n",
    "#     print(probs)\n",
    "    preds = probs[:, 1]\n",
    "    graph, ind = Graph(probs.shape[0]), 0\n",
    "    \n",
    "    for i in range(len(text_lst)):\n",
    "        for j in range(i + 1, len(text_lst)):\n",
    "            if preds[ind] > 0.5:\n",
    "                \n",
    "                graph.add_edge(i, j)\n",
    "            else:\n",
    "                \n",
    "                graph.add_edge(j, i)\n",
    "            ind += 1\n",
    "    print(graph.graph)\n",
    "    sent_order = graph.topological_sort()\n",
    "    return [text_lst[i] for i in sent_order]"
   ]
  },
  {
   "cell_type": "code",
   "execution_count": 151,
   "id": "b278813b",
   "metadata": {
    "scrolled": true
   },
   "outputs": [
    {
     "data": {
      "text/plain": [
       "['My interest has been further stimulated by the impact Brexit has had on businesses.',\n",
       " 'Due to the Brexit vote, businesses entered an interesting and challenging phase.',\n",
       " \"The uncertainty over the UK's future relationship with the European Union is discouraging business investment as the pound depreciated in value immediately after the result, creating a challenge for firms based in the UK, as exports have become dearer and faced a fall in demand.\",\n",
       " 'This fuelled my curiosity for the accounting and financial side of business as I enjoy quantitative analysis and analysing strategies best for firms depending on their circumstances.',\n",
       " 'I find the difficulties that businesses face very intriguing and would especially like to analyse business figures to help provide a solution to problems, such as cutting costs.',\n",
       " 'I attended a taster session for business management, as well as accounting and finance at City, University of London.',\n",
       " 'This allowed me to not only explore the different options available, but also gain an insight into the skills needed to be successful.',\n",
       " 'I learnt that application and analysis are skills that are very important and are needed to be successful, not only when studying towards a degree, but also when managing a business.',\n",
       " 'Attending a placement at Barclays enabled me to explore the financial sector and gain an understanding into the role of a financial advisor.',\n",
       " 'Some of the tasks I completed included aiding customers deposit money into their bank accounts, counting large amounts of money, and ensuring that the tills were balanced.',\n",
       " 'I also got the chance to observe interviews between customers and advisors regarding the creation of new accounts and applications for loans.']"
      ]
     },
     "execution_count": 151,
     "metadata": {},
     "output_type": "execute_result"
    }
   ],
   "source": [
    "import nltk\n",
    "sp_text = '''My interest has been further stimulated by the impact Brexit has had on businesses. Due to the Brexit vote, businesses entered an interesting and challenging phase. The uncertainty over the UK's future relationship with the European Union is discouraging business investment as the pound depreciated in value immediately after the result, creating a challenge for firms based in the UK, as exports have become dearer and faced a fall in demand. This fuelled my curiosity for the accounting and financial side of business as I enjoy quantitative analysis and analysing strategies best for firms depending on their circumstances. I find the difficulties that businesses face very intriguing and would especially like to analyse business figures to help provide a solution to problems, such as cutting costs.\n",
    "I attended a taster session for business management, as well as accounting and finance at City, University of London. This allowed me to not only explore the different options available, but also gain an insight into the skills needed to be successful. I learnt that application and analysis are skills that are very important and are needed to be successful, not only when studying towards a degree, but also when managing a business. Attending a placement at Barclays enabled me to explore the financial sector and gain an understanding into the role of a financial advisor. Some of the tasks I completed included aiding customers deposit money into their bank accounts, counting large amounts of money, and ensuring that the tills were balanced. I also got the chance to observe interviews between customers and advisors regarding the creation of new accounts and applications for loans.'''\n",
    "sp_text_lst = nltk.sent_tokenize(sp_text) \n",
    "sp_text_lst"
   ]
  },
  {
   "cell_type": "code",
   "execution_count": 152,
   "id": "512e67bc",
   "metadata": {
    "scrolled": false
   },
   "outputs": [
    {
     "data": {
      "text/plain": [
       "['Attending a placement at Barclays enabled me to explore the financial sector and gain an understanding into the role of a financial advisor.',\n",
       " 'I find the difficulties that businesses face very intriguing and would especially like to analyse business figures to help provide a solution to problems, such as cutting costs.',\n",
       " 'Due to the Brexit vote, businesses entered an interesting and challenging phase.',\n",
       " 'This fuelled my curiosity for the accounting and financial side of business as I enjoy quantitative analysis and analysing strategies best for firms depending on their circumstances.',\n",
       " 'I attended a taster session for business management, as well as accounting and finance at City, University of London.',\n",
       " 'I learnt that application and analysis are skills that are very important and are needed to be successful, not only when studying towards a degree, but also when managing a business.',\n",
       " 'My interest has been further stimulated by the impact Brexit has had on businesses.',\n",
       " \"The uncertainty over the UK's future relationship with the European Union is discouraging business investment as the pound depreciated in value immediately after the result, creating a challenge for firms based in the UK, as exports have become dearer and faced a fall in demand.\",\n",
       " 'I also got the chance to observe interviews between customers and advisors regarding the creation of new accounts and applications for loans.',\n",
       " 'Some of the tasks I completed included aiding customers deposit money into their bank accounts, counting large amounts of money, and ensuring that the tills were balanced.',\n",
       " 'This allowed me to not only explore the different options available, but also gain an insight into the skills needed to be successful.']"
      ]
     },
     "execution_count": 152,
     "metadata": {},
     "output_type": "execute_result"
    }
   ],
   "source": [
    "from sklearn.utils import shuffle\n",
    "sp_text_lst = shuffle(sp_text_lst)\n",
    "sp_text_lst"
   ]
  },
  {
   "cell_type": "code",
   "execution_count": 153,
   "id": "7a4bad44",
   "metadata": {
    "scrolled": true
   },
   "outputs": [
    {
     "name": "stderr",
     "output_type": "stream",
     "text": [
      "C:\\ProgramData\\Anaconda3\\lib\\site-packages\\transformers\\tokenization_utils_base.py:2184: FutureWarning: The `pad_to_max_length` argument is deprecated and will be removed in a future version, use `padding=True` or `padding='longest'` to pad to the longest sequence in the batch, or use `padding='max_length'` to pad to a max length. In this case, you can give a specific length with `max_length` (e.g. `max_length=45`) or leave max_length to None to pad to the maximal input size of the model (e.g. 512 for Bert).\n",
      "  warnings.warn(\n"
     ]
    },
    {
     "name": "stdout",
     "output_type": "stream",
     "text": [
      "tensor([[-0.2756,  0.3456],\n",
      "        [ 0.0642, -0.1479],\n",
      "        [-0.5867,  0.6431],\n",
      "        [-0.6164,  0.6642],\n",
      "        [-0.5303,  0.5561],\n",
      "        [ 0.1041, -0.1584],\n",
      "        [ 0.4456, -0.5468],\n",
      "        [-0.6386,  0.6734],\n",
      "        [-0.5503,  0.5530],\n",
      "        [-0.5967,  0.6105],\n",
      "        [-0.5777,  0.6666],\n",
      "        [-0.6246,  0.7459],\n",
      "        [ 0.2320, -0.2349],\n",
      "        [-0.4941,  0.6373],\n",
      "        [-0.5948,  0.6690],\n",
      "        [-0.3769,  0.3405],\n",
      "        [ 0.7736, -0.8781],\n",
      "        [-0.0890,  0.0080],\n",
      "        [-0.0475,  0.0400],\n",
      "        [-0.3594,  0.3206],\n",
      "        [ 0.3548, -0.4951],\n",
      "        [-0.1476,  0.1321],\n",
      "        [-0.6614,  0.7470],\n",
      "        [-0.5624,  0.5337],\n",
      "        [ 1.0909, -1.1485],\n",
      "        [ 0.0518, -0.2348],\n",
      "        [ 0.7585, -0.8209],\n",
      "        [-0.6698,  0.7225],\n",
      "        [-0.6674,  0.7550],\n",
      "        [-0.2763,  0.1952],\n",
      "        [-0.3701,  0.3014],\n",
      "        [ 0.1697, -0.3540],\n",
      "        [-0.4253,  0.2931],\n",
      "        [-0.4662,  0.4099],\n",
      "        [-0.5544,  0.6615],\n",
      "        [ 0.8704, -0.9101],\n",
      "        [ 0.7347, -0.7748],\n",
      "        [ 0.0998, -0.2544],\n",
      "        [-0.1963,  0.0198],\n",
      "        [ 0.0807, -0.2580],\n",
      "        [ 1.3126, -1.2988],\n",
      "        [ 1.2870, -1.2719],\n",
      "        [ 0.5579, -0.6264],\n",
      "        [ 0.7911, -0.9340],\n",
      "        [-0.5881,  0.6405],\n",
      "        [-0.2244,  0.1409],\n",
      "        [ 1.2297, -1.3259],\n",
      "        [ 0.9106, -1.1035],\n",
      "        [ 1.3705, -1.4253],\n",
      "        [ 1.0640, -1.0974],\n",
      "        [ 0.7416, -0.9520],\n",
      "        [ 0.6408, -0.7663],\n",
      "        [-0.6358,  0.6505],\n",
      "        [ 0.3177, -0.4736],\n",
      "        [-0.1173, -0.0141]])\n",
      "[[0.34950048 0.6504995 ]\n",
      " [0.5528269  0.44717312]\n",
      " [0.2262166  0.7737834 ]\n",
      " [0.2174547  0.7825453 ]\n",
      " [0.25230622 0.7476938 ]\n",
      " [0.56526303 0.43473697]\n",
      " [0.7295554  0.27044457]\n",
      " [0.21216023 0.78783983]\n",
      " [0.24911997 0.75088006]\n",
      " [0.23019692 0.76980305]\n",
      " [0.22369188 0.77630806]\n",
      " [0.20255303 0.79744697]\n",
      " [0.61466783 0.38533214]\n",
      " [0.24389629 0.75610375]\n",
      " [0.22031611 0.7796839 ]\n",
      " [0.32796958 0.67203045]\n",
      " [0.83910924 0.1608907 ]\n",
      " [0.47577527 0.52422476]\n",
      " [0.47814378 0.5218563 ]\n",
      " [0.33627114 0.6637289 ]\n",
      " [0.70055556 0.2994444 ]\n",
      " [0.4305355  0.5694645 ]\n",
      " [0.19648522 0.8035147 ]\n",
      " [0.25046426 0.7495358 ]\n",
      " [0.9037395  0.09626043]\n",
      " [0.57116437 0.42883557]\n",
      " [0.8291213  0.17087871]\n",
      " [0.19903666 0.8009633 ]\n",
      " [0.19428034 0.8057196 ]\n",
      " [0.38425922 0.6157407 ]\n",
      " [0.33816794 0.6618321 ]\n",
      " [0.62800896 0.37199104]\n",
      " [0.3277408  0.67225915]\n",
      " [0.29399475 0.7060052 ]\n",
      " [0.22864889 0.77135116]\n",
      " [0.855753   0.14424695]\n",
      " [0.8189872  0.18101284]\n",
      " [0.58763283 0.4123672 ]\n",
      " [0.44618595 0.55381405]\n",
      " [0.5838652  0.4161348 ]\n",
      " [0.93159306 0.06840689]\n",
      " [0.928171   0.07182904]\n",
      " [0.76571333 0.23428664]\n",
      " [0.84878427 0.15121573]\n",
      " [0.2264146  0.7735854 ]\n",
      " [0.40966743 0.59033257]\n",
      " [0.927954   0.07204594]\n",
      " [0.88227725 0.11772281]\n",
      " [0.94244546 0.05755453]\n",
      " [0.8967344  0.10326563]\n",
      " [0.8447058  0.15529422]\n",
      " [0.803304   0.19669603]\n",
      " [0.21646674 0.7835332 ]\n",
      " [0.6881128  0.31188723]\n",
      " [0.47424272 0.5257573 ]]\n",
      "defaultdict(<class 'list'>, {0: [1, 3, 4, 5, 8, 9, 10], 2: [0, 3, 5, 6, 7], 6: [0, 4, 5, 7], 7: [0, 4, 5], 1: [2, 3, 5, 6, 7, 9, 10], 4: [1, 2, 5, 9], 8: [1, 2, 3, 4, 5, 6, 7, 9], 9: [2, 5, 6, 7, 10], 10: [2, 4, 6, 7, 8], 3: [4, 5, 6, 7, 9, 10], 5: [10]})\n"
     ]
    }
   ],
   "source": [
    "# sorted_sentences = sort_sentences(sp_text_lst)[::-1]\n",
    "sorted_sentences = sort_sentences(sp_text_lst)\n",
    "for sent in sorted_sentences:\n",
    "    print(sent)\n",
    "    print(\"^-^\")"
   ]
  },
  {
   "cell_type": "code",
   "execution_count": null,
   "id": "6d846648",
   "metadata": {},
   "outputs": [],
   "source": []
  },
  {
   "cell_type": "code",
   "execution_count": null,
   "id": "75f6c28c",
   "metadata": {},
   "outputs": [],
   "source": []
  }
 ],
 "metadata": {
  "kernelspec": {
   "display_name": "Python 3",
   "language": "python",
   "name": "python3"
  },
  "language_info": {
   "codemirror_mode": {
    "name": "ipython",
    "version": 3
   },
   "file_extension": ".py",
   "mimetype": "text/x-python",
   "name": "python",
   "nbconvert_exporter": "python",
   "pygments_lexer": "ipython3",
   "version": "3.8.8"
  }
 },
 "nbformat": 4,
 "nbformat_minor": 5
}
